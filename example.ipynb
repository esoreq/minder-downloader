{
 "cells": [
  {
   "attachments": {},
   "cell_type": "markdown",
   "metadata": {},
   "source": [
    "# Minder Downloader\n",
    "The minder-downloader module is a Python package that provides a user-friendly interface for interacting with the Minder research portal.  \n",
    "This package enables users to easily download datasets from the Minder research portal, as well as upload reports to the platform.\n",
    "The downloading functionality of the package is straightforward to use.  \n",
    "The module handles the authentication and request/response handling, so the user doesn't need to worry about the details of these processes.  \n",
    "Once authenticated, users can specify the date range and datasets to download, and the module will return the data as a Pandas DataFrame. \n",
    "This makes it easy to work with the data using Python's powerful data analysis tools.  \n",
    "This is a complementary tool to dcarte that is intended to simplify the creation of period-specific models or dashboards that communicate data for a short period of time. \n",
    "\n",
    "In addition to downloading data, the minder-downloader module also provides a simple way to upload reports to the Minder research portal. \n",
    "This can be done by providing the path to a file and the HTML address to upload the file.  \n",
    "The module takes care of the uploading process, making sharing reports with collaborators or the wider research community easy.  \n",
    "\n",
    "Overall, the minder-downloader package provides a convenient and streamlined way to interact with the Minder research portal, whether you need to download data or upload reports.\n"
   ]
  },
  {
   "attachments": {},
   "cell_type": "markdown",
   "metadata": {},
   "source": [
    "## Installation\n",
    "You can install minder-downloader using pip:\n",
    "\n",
    "```bash\n",
    "pip install minder-downloader\n",
    "```"
   ]
  },
  {
   "attachments": {},
   "cell_type": "markdown",
   "metadata": {},
   "source": [
    "## Usage \n",
    "\n",
    "### Import \n",
    "When working on tasks that involve downloading files or data from online sources, it can be incredibly helpful to import a Python package known as \"minder_downloader\" and assign it the convenient and easily-remembered acronym \"md\", as this allows for streamlined and efficient coding and can save precious time and effort in the long run."
   ]
  },
  {
   "cell_type": "code",
   "execution_count": 1,
   "metadata": {},
   "outputs": [],
   "source": [
    "import minder_downloader as md"
   ]
  },
  {
   "attachments": {},
   "cell_type": "markdown",
   "metadata": {},
   "source": [
    "### Review available datasets\n",
    "One of the key advantages of using the \"minder_downloader\" package for data downloading is the ability to easily review and access available datasets through the convenient `md.datasets()` function. By calling this function, users can quickly connect to the minder research platform and retrieve a comprehensive list of datasets that are currently being maintained on the portal. This can be particularly beneficial for researchers, data scientists, and other professionals who need to access large amounts of data for their work, as it allows them to quickly and easily identify relevant datasets and begin analyzing them right away. Additionally, the \"minder_downloader\" package is designed to be user-friendly and intuitive, making it accessible to even those who may not have extensive experience with coding or data analysis. Whether you are working on a research project, developing new software, or simply seeking to expand your knowledge of a particular field, the \"minder_downloader\" package can be an invaluable tool for streamlining your workflow and maximising your productivity."
   ]
  },
  {
   "cell_type": "code",
   "execution_count": 2,
   "metadata": {},
   "outputs": [
    {
     "data": {
      "text/html": [
       "<div>\n",
       "<style scoped>\n",
       "    .dataframe tbody tr th:only-of-type {\n",
       "        vertical-align: middle;\n",
       "    }\n",
       "\n",
       "    .dataframe tbody tr th {\n",
       "        vertical-align: top;\n",
       "    }\n",
       "\n",
       "    .dataframe thead th {\n",
       "        text-align: right;\n",
       "    }\n",
       "</style>\n",
       "<table border=\"1\" class=\"dataframe\">\n",
       "  <thead>\n",
       "    <tr style=\"text-align: right;\">\n",
       "      <th></th>\n",
       "      <th>datasets</th>\n",
       "      <th>availableColumns</th>\n",
       "      <th>domain</th>\n",
       "      <th>availableFilters</th>\n",
       "    </tr>\n",
       "  </thead>\n",
       "  <tbody>\n",
       "    <tr>\n",
       "      <th>0</th>\n",
       "      <td>raw_body_weight</td>\n",
       "      <td>[id, start_date, end_date, device_type, patien...</td>\n",
       "      <td>vital_signs</td>\n",
       "      <td>NaN</td>\n",
       "    </tr>\n",
       "    <tr>\n",
       "      <th>1</th>\n",
       "      <td>raw_total_body_water</td>\n",
       "      <td>[id, start_date, end_date, device_type, patien...</td>\n",
       "      <td>vital_signs</td>\n",
       "      <td>NaN</td>\n",
       "    </tr>\n",
       "    <tr>\n",
       "      <th>2</th>\n",
       "      <td>raw_body_muscle_mass</td>\n",
       "      <td>[id, start_date, end_date, device_type, patien...</td>\n",
       "      <td>vital_signs</td>\n",
       "      <td>NaN</td>\n",
       "    </tr>\n",
       "    <tr>\n",
       "      <th>3</th>\n",
       "      <td>raw_body_mass_index</td>\n",
       "      <td>[id, start_date, end_date, device_type, patien...</td>\n",
       "      <td>vital_signs</td>\n",
       "      <td>NaN</td>\n",
       "    </tr>\n",
       "    <tr>\n",
       "      <th>4</th>\n",
       "      <td>raw_total_body_fat</td>\n",
       "      <td>[id, start_date, end_date, device_type, patien...</td>\n",
       "      <td>vital_signs</td>\n",
       "      <td>NaN</td>\n",
       "    </tr>\n",
       "    <tr>\n",
       "      <th>5</th>\n",
       "      <td>raw_total_bone_mass</td>\n",
       "      <td>[id, start_date, end_date, device_type, patien...</td>\n",
       "      <td>vital_signs</td>\n",
       "      <td>NaN</td>\n",
       "    </tr>\n",
       "    <tr>\n",
       "      <th>6</th>\n",
       "      <td>raw_heart_rate</td>\n",
       "      <td>[id, start_date, end_date, device_type, patien...</td>\n",
       "      <td>vital_signs</td>\n",
       "      <td>NaN</td>\n",
       "    </tr>\n",
       "    <tr>\n",
       "      <th>7</th>\n",
       "      <td>raw_oxygen_saturation</td>\n",
       "      <td>[id, start_date, end_date, device_type, patien...</td>\n",
       "      <td>vital_signs</td>\n",
       "      <td>NaN</td>\n",
       "    </tr>\n",
       "    <tr>\n",
       "      <th>8</th>\n",
       "      <td>raw_blood_pressure</td>\n",
       "      <td>[id, start_date, end_date, device_type, patien...</td>\n",
       "      <td>vital_signs</td>\n",
       "      <td>NaN</td>\n",
       "    </tr>\n",
       "    <tr>\n",
       "      <th>9</th>\n",
       "      <td>raw_skin_temperature</td>\n",
       "      <td>[id, start_date, end_date, device_type, patien...</td>\n",
       "      <td>vital_signs</td>\n",
       "      <td>NaN</td>\n",
       "    </tr>\n",
       "    <tr>\n",
       "      <th>10</th>\n",
       "      <td>raw_body_temperature</td>\n",
       "      <td>[id, start_date, end_date, device_type, patien...</td>\n",
       "      <td>vital_signs</td>\n",
       "      <td>NaN</td>\n",
       "    </tr>\n",
       "    <tr>\n",
       "      <th>11</th>\n",
       "      <td>raw_ambient_temperature</td>\n",
       "      <td>[id, start_date, end_date, device_type, patien...</td>\n",
       "      <td>environmental</td>\n",
       "      <td>NaN</td>\n",
       "    </tr>\n",
       "    <tr>\n",
       "      <th>12</th>\n",
       "      <td>raw_light</td>\n",
       "      <td>[id, start_date, end_date, device_type, patien...</td>\n",
       "      <td>environmental</td>\n",
       "      <td>NaN</td>\n",
       "    </tr>\n",
       "    <tr>\n",
       "      <th>13</th>\n",
       "      <td>raw_activity_pir</td>\n",
       "      <td>[id, start_date, end_date, device_type, patien...</td>\n",
       "      <td>activity</td>\n",
       "      <td>NaN</td>\n",
       "    </tr>\n",
       "    <tr>\n",
       "      <th>14</th>\n",
       "      <td>raw_door_sensor</td>\n",
       "      <td>[id, start_date, end_date, device_type, patien...</td>\n",
       "      <td>activity</td>\n",
       "      <td>{'value': ['opened', 'closed']}</td>\n",
       "    </tr>\n",
       "    <tr>\n",
       "      <th>15</th>\n",
       "      <td>raw_appliance_use</td>\n",
       "      <td>[id, start_date, end_date, device_type, patien...</td>\n",
       "      <td>activity</td>\n",
       "      <td>NaN</td>\n",
       "    </tr>\n",
       "    <tr>\n",
       "      <th>16</th>\n",
       "      <td>raw_sleep_event</td>\n",
       "      <td>[id, start_date, end_date, device_type, patien...</td>\n",
       "      <td>other</td>\n",
       "      <td>NaN</td>\n",
       "    </tr>\n",
       "    <tr>\n",
       "      <th>17</th>\n",
       "      <td>raw_wearable_walking</td>\n",
       "      <td>[id, start_date, end_date, device_type, patien...</td>\n",
       "      <td>other</td>\n",
       "      <td>NaN</td>\n",
       "    </tr>\n",
       "    <tr>\n",
       "      <th>18</th>\n",
       "      <td>raw_sleep_mat</td>\n",
       "      <td>[id, start_date, end_date, device_type, patien...</td>\n",
       "      <td>other</td>\n",
       "      <td>NaN</td>\n",
       "    </tr>\n",
       "    <tr>\n",
       "      <th>19</th>\n",
       "      <td>raw_behavioural</td>\n",
       "      <td>[id, start_date, end_date, type, patient_id, h...</td>\n",
       "      <td>other</td>\n",
       "      <td>NaN</td>\n",
       "    </tr>\n",
       "    <tr>\n",
       "      <th>20</th>\n",
       "      <td>patients</td>\n",
       "      <td>[id, birth_date, gender, organization]</td>\n",
       "      <td>lookup</td>\n",
       "      <td>NaN</td>\n",
       "    </tr>\n",
       "    <tr>\n",
       "      <th>21</th>\n",
       "      <td>homes</td>\n",
       "      <td>[home_id, patient_id, n_known_occupants]</td>\n",
       "      <td>lookup</td>\n",
       "      <td>NaN</td>\n",
       "    </tr>\n",
       "    <tr>\n",
       "      <th>22</th>\n",
       "      <td>device_types</td>\n",
       "      <td>[id, manufacturer, name, model_number, type, o...</td>\n",
       "      <td>lookup</td>\n",
       "      <td>NaN</td>\n",
       "    </tr>\n",
       "    <tr>\n",
       "      <th>23</th>\n",
       "      <td>encounter</td>\n",
       "      <td>[id, start_date, end_date, type, patient_id, h...</td>\n",
       "      <td>care</td>\n",
       "      <td>NaN</td>\n",
       "    </tr>\n",
       "    <tr>\n",
       "      <th>24</th>\n",
       "      <td>procedure</td>\n",
       "      <td>[id, start_date, end_date, type, patient_id, h...</td>\n",
       "      <td>care</td>\n",
       "      <td>NaN</td>\n",
       "    </tr>\n",
       "    <tr>\n",
       "      <th>25</th>\n",
       "      <td>issue</td>\n",
       "      <td>[id, authored_on, start_date, end_date, type, ...</td>\n",
       "      <td>care</td>\n",
       "      <td>NaN</td>\n",
       "    </tr>\n",
       "    <tr>\n",
       "      <th>26</th>\n",
       "      <td>observation_notes</td>\n",
       "      <td>[id, date, dataset, subject_id, patient_id, ho...</td>\n",
       "      <td>care</td>\n",
       "      <td>{'dataset': ['raw_ambient_temperature', 'raw_l...</td>\n",
       "    </tr>\n",
       "    <tr>\n",
       "      <th>27</th>\n",
       "      <td>questionnaire_responses</td>\n",
       "      <td>[patient_id, response_id, questionnaire, quest...</td>\n",
       "      <td>care</td>\n",
       "      <td>NaN</td>\n",
       "    </tr>\n",
       "  </tbody>\n",
       "</table>\n",
       "</div>"
      ],
      "text/plain": [
       "                   datasets  \\\n",
       "0           raw_body_weight   \n",
       "1      raw_total_body_water   \n",
       "2      raw_body_muscle_mass   \n",
       "3       raw_body_mass_index   \n",
       "4        raw_total_body_fat   \n",
       "5       raw_total_bone_mass   \n",
       "6            raw_heart_rate   \n",
       "7     raw_oxygen_saturation   \n",
       "8        raw_blood_pressure   \n",
       "9      raw_skin_temperature   \n",
       "10     raw_body_temperature   \n",
       "11  raw_ambient_temperature   \n",
       "12                raw_light   \n",
       "13         raw_activity_pir   \n",
       "14          raw_door_sensor   \n",
       "15        raw_appliance_use   \n",
       "16          raw_sleep_event   \n",
       "17     raw_wearable_walking   \n",
       "18            raw_sleep_mat   \n",
       "19          raw_behavioural   \n",
       "20                 patients   \n",
       "21                    homes   \n",
       "22             device_types   \n",
       "23                encounter   \n",
       "24                procedure   \n",
       "25                    issue   \n",
       "26        observation_notes   \n",
       "27  questionnaire_responses   \n",
       "\n",
       "                                     availableColumns         domain  \\\n",
       "0   [id, start_date, end_date, device_type, patien...    vital_signs   \n",
       "1   [id, start_date, end_date, device_type, patien...    vital_signs   \n",
       "2   [id, start_date, end_date, device_type, patien...    vital_signs   \n",
       "3   [id, start_date, end_date, device_type, patien...    vital_signs   \n",
       "4   [id, start_date, end_date, device_type, patien...    vital_signs   \n",
       "5   [id, start_date, end_date, device_type, patien...    vital_signs   \n",
       "6   [id, start_date, end_date, device_type, patien...    vital_signs   \n",
       "7   [id, start_date, end_date, device_type, patien...    vital_signs   \n",
       "8   [id, start_date, end_date, device_type, patien...    vital_signs   \n",
       "9   [id, start_date, end_date, device_type, patien...    vital_signs   \n",
       "10  [id, start_date, end_date, device_type, patien...    vital_signs   \n",
       "11  [id, start_date, end_date, device_type, patien...  environmental   \n",
       "12  [id, start_date, end_date, device_type, patien...  environmental   \n",
       "13  [id, start_date, end_date, device_type, patien...       activity   \n",
       "14  [id, start_date, end_date, device_type, patien...       activity   \n",
       "15  [id, start_date, end_date, device_type, patien...       activity   \n",
       "16  [id, start_date, end_date, device_type, patien...          other   \n",
       "17  [id, start_date, end_date, device_type, patien...          other   \n",
       "18  [id, start_date, end_date, device_type, patien...          other   \n",
       "19  [id, start_date, end_date, type, patient_id, h...          other   \n",
       "20             [id, birth_date, gender, organization]         lookup   \n",
       "21           [home_id, patient_id, n_known_occupants]         lookup   \n",
       "22  [id, manufacturer, name, model_number, type, o...         lookup   \n",
       "23  [id, start_date, end_date, type, patient_id, h...           care   \n",
       "24  [id, start_date, end_date, type, patient_id, h...           care   \n",
       "25  [id, authored_on, start_date, end_date, type, ...           care   \n",
       "26  [id, date, dataset, subject_id, patient_id, ho...           care   \n",
       "27  [patient_id, response_id, questionnaire, quest...           care   \n",
       "\n",
       "                                     availableFilters  \n",
       "0                                                 NaN  \n",
       "1                                                 NaN  \n",
       "2                                                 NaN  \n",
       "3                                                 NaN  \n",
       "4                                                 NaN  \n",
       "5                                                 NaN  \n",
       "6                                                 NaN  \n",
       "7                                                 NaN  \n",
       "8                                                 NaN  \n",
       "9                                                 NaN  \n",
       "10                                                NaN  \n",
       "11                                                NaN  \n",
       "12                                                NaN  \n",
       "13                                                NaN  \n",
       "14                    {'value': ['opened', 'closed']}  \n",
       "15                                                NaN  \n",
       "16                                                NaN  \n",
       "17                                                NaN  \n",
       "18                                                NaN  \n",
       "19                                                NaN  \n",
       "20                                                NaN  \n",
       "21                                                NaN  \n",
       "22                                                NaN  \n",
       "23                                                NaN  \n",
       "24                                                NaN  \n",
       "25                                                NaN  \n",
       "26  {'dataset': ['raw_ambient_temperature', 'raw_l...  \n",
       "27                                                NaN  "
      ]
     },
     "execution_count": 2,
     "metadata": {},
     "output_type": "execute_result"
    }
   ],
   "source": [
    "md.datasets()"
   ]
  },
  {
   "attachments": {},
   "cell_type": "markdown",
   "metadata": {},
   "source": [
    "### Review available organizations\n",
    "When it comes to data analysis and research, having access to a wide variety of data sources is critical. The minder platform is specifically designed to provide users with access to a broad range of datasets from different organizations. The platform supports several different cohorts, which are groups of individuals who share certain characteristics or traits. These cohorts can include anything from patients with a specific medical condition to people living in a specific geographical location. By reviewing the available cohorts, users can decide which cohorts to download data for and how to analyze it.\n",
    "\n",
    "To access information on available cohorts, users can utilize the `md.organizations()` function. This function allows users to easily connect to the minder research platform and retrieve the most up-to-date list of organizations and cohorts that currently exist. By examining this list, users can quickly identify relevant cohorts and begin accessing the associated datasets for their analysis. Additionally, the minder platform is constantly expanding, with new organizations and cohorts being added regularly. This means that users can expect to have access to an ever-growing pool of data sources, ensuring that they always have the latest and most comprehensive data available for their research needs."
   ]
  },
  {
   "cell_type": "code",
   "execution_count": 4,
   "metadata": {},
   "outputs": [
    {
     "data": {
      "text/html": [
       "<div>\n",
       "<style scoped>\n",
       "    .dataframe tbody tr th:only-of-type {\n",
       "        vertical-align: middle;\n",
       "    }\n",
       "\n",
       "    .dataframe tbody tr th {\n",
       "        vertical-align: top;\n",
       "    }\n",
       "\n",
       "    .dataframe thead th {\n",
       "        text-align: right;\n",
       "    }\n",
       "</style>\n",
       "<table border=\"1\" class=\"dataframe\">\n",
       "  <thead>\n",
       "    <tr style=\"text-align: right;\">\n",
       "      <th></th>\n",
       "      <th>id</th>\n",
       "      <th>name</th>\n",
       "    </tr>\n",
       "  </thead>\n",
       "  <tbody>\n",
       "    <tr>\n",
       "      <th>0</th>\n",
       "      <td>Aqp5EaBSvDSXs6dYgUddWR</td>\n",
       "      <td>Monitoring after TBI</td>\n",
       "    </tr>\n",
       "    <tr>\n",
       "      <th>1</th>\n",
       "      <td>TTthRZ1HFVX3qTkwDFMzxS</td>\n",
       "      <td>MND</td>\n",
       "    </tr>\n",
       "    <tr>\n",
       "      <th>2</th>\n",
       "      <td>T38saPRzybB2DjekL5vN5E</td>\n",
       "      <td>Care Home 1</td>\n",
       "    </tr>\n",
       "    <tr>\n",
       "      <th>3</th>\n",
       "      <td>7LcACpK4u12HH72D1etd5X</td>\n",
       "      <td>H&amp;F</td>\n",
       "    </tr>\n",
       "    <tr>\n",
       "      <th>4</th>\n",
       "      <td>ELM4RQF8R9dsU3CZEgtiTW</td>\n",
       "      <td>SABP</td>\n",
       "    </tr>\n",
       "    <tr>\n",
       "      <th>5</th>\n",
       "      <td>EMXHH7vg3xHNM7k2862nD6</td>\n",
       "      <td>CR&amp;T</td>\n",
       "    </tr>\n",
       "  </tbody>\n",
       "</table>\n",
       "</div>"
      ],
      "text/plain": [
       "                       id                  name\n",
       "0  Aqp5EaBSvDSXs6dYgUddWR  Monitoring after TBI\n",
       "1  TTthRZ1HFVX3qTkwDFMzxS                   MND\n",
       "2  T38saPRzybB2DjekL5vN5E           Care Home 1\n",
       "3  7LcACpK4u12HH72D1etd5X                   H&F\n",
       "4  ELM4RQF8R9dsU3CZEgtiTW                  SABP\n",
       "5  EMXHH7vg3xHNM7k2862nD6                  CR&T"
      ]
     },
     "execution_count": 4,
     "metadata": {},
     "output_type": "execute_result"
    }
   ],
   "source": [
    "md.organizations()"
   ]
  },
  {
   "attachments": {},
   "cell_type": "markdown",
   "metadata": {},
   "source": [
    "### Download specific dataset or datasets \n",
    "Once you have identified the relevant cohort or cohorts and the associated datasets that you want to analyze, the next step is to download them to your local machine. The \"minder_downloader\" package provides a convenient way to download specific datasets or batches of datasets with just a few lines of code.\n",
    "\n",
    "\n",
    "#### Download a single specific dataset\n",
    "To download a specific dataset, you can use the md.download_dataset() function. This function takes two arguments: the name of the dataset that you want to download and the path where you want to save the downloaded files. Additionally, you can specify the period for which you want to download the dataset/s. For example, to download a dataset called \"raw_heart_rate\" for the last week, you would use the following code:"
   ]
  },
  {
   "cell_type": "code",
   "execution_count": 5,
   "metadata": {},
   "outputs": [
    {
     "name": "stderr",
     "output_type": "stream",
     "text": [
      "Downloading ['raw_heart_rate']: 100%|██████████| 1/1 [00:04<00:00,  4.90s/it]\n"
     ]
    }
   ],
   "source": [
    "from datetime import datetime, timedelta\n",
    "since = datetime.now() - timedelta(days=7)\n",
    "until = datetime.now()\n",
    "raw_heart_rate = md.load(since,until,['raw_heart_rate'])"
   ]
  },
  {
   "cell_type": "code",
   "execution_count": 6,
   "metadata": {},
   "outputs": [
    {
     "data": {
      "text/html": [
       "<div>\n",
       "<style scoped>\n",
       "    .dataframe tbody tr th:only-of-type {\n",
       "        vertical-align: middle;\n",
       "    }\n",
       "\n",
       "    .dataframe tbody tr th {\n",
       "        vertical-align: top;\n",
       "    }\n",
       "\n",
       "    .dataframe thead th {\n",
       "        text-align: right;\n",
       "    }\n",
       "</style>\n",
       "<table border=\"1\" class=\"dataframe\">\n",
       "  <thead>\n",
       "    <tr style=\"text-align: right;\">\n",
       "      <th></th>\n",
       "      <th>id</th>\n",
       "      <th>start_date</th>\n",
       "      <th>end_date</th>\n",
       "      <th>device_type</th>\n",
       "      <th>patient_id</th>\n",
       "      <th>home_id</th>\n",
       "      <th>value</th>\n",
       "      <th>unit</th>\n",
       "      <th>source</th>\n",
       "    </tr>\n",
       "  </thead>\n",
       "  <tbody>\n",
       "    <tr>\n",
       "      <th>0</th>\n",
       "      <td>KBzLpmKtanj1esECU3xt55</td>\n",
       "      <td>2023-03-07T09:54:18.000000Z</td>\n",
       "      <td>2023-03-07T09:54:18.999999Z</td>\n",
       "      <td>9XJvuLwLPUk42TnZVK9azU</td>\n",
       "      <td>R8amTSvAQkobnkeuWybkWL</td>\n",
       "      <td>2r1JwD98cpJyWXJQoREtVn</td>\n",
       "      <td>61</td>\n",
       "      <td>/min</td>\n",
       "      <td>raw_heart_rate</td>\n",
       "    </tr>\n",
       "    <tr>\n",
       "      <th>1</th>\n",
       "      <td>4FsVRaeNrvPnJ3hJjD73Ck</td>\n",
       "      <td>2023-03-07T09:57:52.000000Z</td>\n",
       "      <td>2023-03-07T09:57:52.999999Z</td>\n",
       "      <td>AqL2oFdfZNpTTdDhqWCahi</td>\n",
       "      <td>3hdLfGDQYm8JTyABuWLQF7</td>\n",
       "      <td>CroxUA1snx5mWGDJhGTHFG</td>\n",
       "      <td>105</td>\n",
       "      <td>/min</td>\n",
       "      <td>raw_heart_rate</td>\n",
       "    </tr>\n",
       "    <tr>\n",
       "      <th>2</th>\n",
       "      <td>2hNiPURhkj3XYyFQNLVztM</td>\n",
       "      <td>2023-03-07T09:58:51.000000Z</td>\n",
       "      <td>2023-03-07T09:58:51.999999Z</td>\n",
       "      <td>F18ezCHcSyb3aEobHW87MN</td>\n",
       "      <td>GF8oTD7B7MMYWB4zcTvkDV</td>\n",
       "      <td>6djXP2hwcEQbrwk5ucBZm1</td>\n",
       "      <td>82</td>\n",
       "      <td>/min</td>\n",
       "      <td>raw_heart_rate</td>\n",
       "    </tr>\n",
       "    <tr>\n",
       "      <th>3</th>\n",
       "      <td>TmdDcnUkn4G7zxYAN5Dyzg</td>\n",
       "      <td>2023-03-07T09:59:31.000000Z</td>\n",
       "      <td>2023-03-07T09:59:31.999999Z</td>\n",
       "      <td>AqL2oFdfZNpTTdDhqWCahi</td>\n",
       "      <td>VPf9X4Jn1hh2Y76Jb9Xbuv</td>\n",
       "      <td>B96fARGsBh1y8o5ZnBm9gn</td>\n",
       "      <td>83</td>\n",
       "      <td>/min</td>\n",
       "      <td>raw_heart_rate</td>\n",
       "    </tr>\n",
       "    <tr>\n",
       "      <th>4</th>\n",
       "      <td>Lwq12WGv111sL7fbyJtNy3</td>\n",
       "      <td>2023-03-07T09:59:55.000000Z</td>\n",
       "      <td>2023-03-07T09:59:55.999999Z</td>\n",
       "      <td>AqL2oFdfZNpTTdDhqWCahi</td>\n",
       "      <td>6ETMXJgHTXyet2HUohpeYZ</td>\n",
       "      <td>Gh4a4adKsrec37SD8WNjmj</td>\n",
       "      <td>76</td>\n",
       "      <td>/min</td>\n",
       "      <td>raw_heart_rate</td>\n",
       "    </tr>\n",
       "  </tbody>\n",
       "</table>\n",
       "</div>"
      ],
      "text/plain": [
       "                       id                   start_date  \\\n",
       "0  KBzLpmKtanj1esECU3xt55  2023-03-07T09:54:18.000000Z   \n",
       "1  4FsVRaeNrvPnJ3hJjD73Ck  2023-03-07T09:57:52.000000Z   \n",
       "2  2hNiPURhkj3XYyFQNLVztM  2023-03-07T09:58:51.000000Z   \n",
       "3  TmdDcnUkn4G7zxYAN5Dyzg  2023-03-07T09:59:31.000000Z   \n",
       "4  Lwq12WGv111sL7fbyJtNy3  2023-03-07T09:59:55.000000Z   \n",
       "\n",
       "                      end_date             device_type  \\\n",
       "0  2023-03-07T09:54:18.999999Z  9XJvuLwLPUk42TnZVK9azU   \n",
       "1  2023-03-07T09:57:52.999999Z  AqL2oFdfZNpTTdDhqWCahi   \n",
       "2  2023-03-07T09:58:51.999999Z  F18ezCHcSyb3aEobHW87MN   \n",
       "3  2023-03-07T09:59:31.999999Z  AqL2oFdfZNpTTdDhqWCahi   \n",
       "4  2023-03-07T09:59:55.999999Z  AqL2oFdfZNpTTdDhqWCahi   \n",
       "\n",
       "               patient_id                 home_id  value  unit          source  \n",
       "0  R8amTSvAQkobnkeuWybkWL  2r1JwD98cpJyWXJQoREtVn     61  /min  raw_heart_rate  \n",
       "1  3hdLfGDQYm8JTyABuWLQF7  CroxUA1snx5mWGDJhGTHFG    105  /min  raw_heart_rate  \n",
       "2  GF8oTD7B7MMYWB4zcTvkDV  6djXP2hwcEQbrwk5ucBZm1     82  /min  raw_heart_rate  \n",
       "3  VPf9X4Jn1hh2Y76Jb9Xbuv  B96fARGsBh1y8o5ZnBm9gn     83  /min  raw_heart_rate  \n",
       "4  6ETMXJgHTXyet2HUohpeYZ  Gh4a4adKsrec37SD8WNjmj     76  /min  raw_heart_rate  "
      ]
     },
     "execution_count": 6,
     "metadata": {},
     "output_type": "execute_result"
    }
   ],
   "source": [
    "raw_heart_rate.head()"
   ]
  },
  {
   "cell_type": "code",
   "execution_count": 7,
   "metadata": {},
   "outputs": [
    {
     "data": {
      "text/plain": [
       "(13579, 9)"
      ]
     },
     "execution_count": 7,
     "metadata": {},
     "output_type": "execute_result"
    }
   ],
   "source": [
    "raw_heart_rate.shape"
   ]
  },
  {
   "attachments": {},
   "cell_type": "markdown",
   "metadata": {},
   "source": [
    "#### Download a single specific dataset with organization selection\n",
    "\n",
    "This downloaded the entire dataset that your user has access to from the last week. \n",
    "If you want to download datasets for a specific organization or organizations, you can use the organizations argument. This argument takes a list of organization IDs as its value. For example, to download datasets for the \"H&F\" and \"SABP\" organizations, you would use the following code:"
   ]
  },
  {
   "cell_type": "code",
   "execution_count": 8,
   "metadata": {},
   "outputs": [
    {
     "name": "stderr",
     "output_type": "stream",
     "text": [
      "Downloading ['raw_heart_rate']: 100%|██████████| 1/1 [00:03<00:00,  3.36s/it]\n"
     ]
    }
   ],
   "source": [
    "raw_heart_rate = md.load(since,until,['raw_heart_rate'],['ELM4RQF8R9dsU3CZEgtiTW','7LcACpK4u12HH72D1etd5X'])"
   ]
  },
  {
   "cell_type": "code",
   "execution_count": 9,
   "metadata": {},
   "outputs": [
    {
     "data": {
      "text/plain": [
       "(4119, 9)"
      ]
     },
     "execution_count": 9,
     "metadata": {},
     "output_type": "execute_result"
    }
   ],
   "source": [
    "raw_heart_rate.shape"
   ]
  },
  {
   "attachments": {},
   "cell_type": "markdown",
   "metadata": {},
   "source": [
    "It is evident from the above observation that limiting the data download to only two organizations has resulted in a considerably smaller list of datasets. This highlights the importance of carefully selecting the relevant organizations and cohorts for your analysis, as it can have a significant impact on the amount and quality of data that you are able to access."
   ]
  },
  {
   "attachments": {},
   "cell_type": "markdown",
   "metadata": {},
   "source": [
    "#### Download several datasets combined \n",
    "In addition to downloading individual datasets, the \"minder_downloader\" package also allows users to download multiple datasets and combine them into a single file. This can be useful when working with large datasets that are split into smaller subsets, or when multiple datasets need to be merged for analysis.\n",
    "\n",
    "To download and combine several datasets, users simply need to extend the list of datasets to download. For example here we are downloading for the \"H&F\" and \"SABP\" both 'raw_door_sensor','raw_body_muscle_mass' sensors. "
   ]
  },
  {
   "cell_type": "code",
   "execution_count": 10,
   "metadata": {},
   "outputs": [
    {
     "name": "stderr",
     "output_type": "stream",
     "text": [
      "Downloading ['raw_door_sensor', 'raw_body_muscle_mass']: 100%|██████████| 2/2 [00:11<00:00,  5.73s/it]\n"
     ]
    }
   ],
   "source": [
    "dataset = md.load(since,until,['raw_door_sensor','raw_body_muscle_mass'],['ELM4RQF8R9dsU3CZEgtiTW','7LcACpK4u12HH72D1etd5X'])"
   ]
  },
  {
   "cell_type": "code",
   "execution_count": 12,
   "metadata": {},
   "outputs": [
    {
     "data": {
      "text/plain": [
       "raw_door_sensor         34172\n",
       "raw_body_muscle_mass       48\n",
       "Name: source, dtype: int64"
      ]
     },
     "execution_count": 12,
     "metadata": {},
     "output_type": "execute_result"
    }
   ],
   "source": [
    "dataset.source.value_counts()"
   ]
  },
  {
   "attachments": {},
   "cell_type": "markdown",
   "metadata": {},
   "source": [
    "Using the `value_counts` function we can see the marked differences between the two data sources. "
   ]
  },
  {
   "attachments": {},
   "cell_type": "markdown",
   "metadata": {},
   "source": [
    "## Summary\n",
    "In summary, the \"minder_downloader\" package is a simple interface to allow data analysts and researchers who need to download period datasets from the minder platform from various organizations. The package provides a simple and efficient way to download individual datasets or batches of datasets using just a few lines of code. Users can also use the package to download and combine multiple datasets into a single file for easier analysis."
   ]
  }
 ],
 "metadata": {
  "kernelspec": {
   "display_name": "Python 3 (ipykernel)",
   "language": "python",
   "name": "python3"
  },
  "language_info": {
   "codemirror_mode": {
    "name": "ipython",
    "version": 3
   },
   "file_extension": ".py",
   "mimetype": "text/x-python",
   "name": "python",
   "nbconvert_exporter": "python",
   "pygments_lexer": "ipython3",
   "version": "3.9.16"
  }
 },
 "nbformat": 4,
 "nbformat_minor": 4
}
